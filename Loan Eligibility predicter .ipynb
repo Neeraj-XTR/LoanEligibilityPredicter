{
 "cells": [
  {
   "cell_type": "markdown",
   "id": "f7362783",
   "metadata": {},
   "source": [
    "# Problem Definition\n",
    "Creating a model that will first find out wether a person is eligible for loan or not and if eligible than how much loan the user can obtain based on various factors such as the user’s income, education, etc.\n",
    "## Data Source\n",
    "https://www.kaggle.com/datasets/altruistdelhite04/loan-prediction-problem-dataset\n",
    "## Conditions that must match for this model\n",
    "First of all, one cannot predict loan amount using regression models and 981 instances (combining training and testing set) with R2 Score greater than 0.44\n",
    "\n",
    "Secondly, the dateset contains many missing values. So even if using imputer with different parameters for categorical and non-categorical data, ultimately data-set loses variability to some extent.\n",
    "\n",
    "You do imputation, label encoding, one-hot encoding and standardization, and even hyper-parameters tuning in an effort to increase accuracy. But the performance benchmarks around R2 Score of 0.44\n",
    "\n",
    "If still want to try to improve accuracy, you test different combinations of features. But still you get no significant improvement gains\n",
    "\n",
    "Leaving regressors aside now and testing classification to somehow improve accuracy by categorizing loan amount by defining ranges, you get to see accuracy jumping to ~0.7 and F1 Score to ~0.6 with all the optimization techniques applied above.\n",
    "\n",
    "It's tested and proven with all available ML models. So to better predict loan amount better increase the number of instances to more than 5000!\n",
    "\n",
    "These are the some conditions that must match in this model\n"
   ]
  },
  {
   "cell_type": "code",
   "execution_count": 2,
   "id": "da857da8",
   "metadata": {},
   "outputs": [],
   "source": [
    "# Importing all the required modules for the mcahine learning project\n",
    "import numpy as np\n",
    "import pandas as pd\n",
    "import matplotlib.pyplot as plt\n",
    "import random\n"
   ]
  },
  {
   "cell_type": "markdown",
   "id": "13085c0d",
   "metadata": {},
   "source": [
    "## Getting the Data ready for splitting\n"
   ]
  },
  {
   "cell_type": "code",
   "execution_count": 3,
   "id": "da843533",
   "metadata": {},
   "outputs": [],
   "source": [
    "# we dont require to split data as it is already splitted for us \n",
    "#data = pd.read_excel(\"LoanPredData/\")"
   ]
  },
  {
   "cell_type": "markdown",
   "id": "5ba30b62",
   "metadata": {},
   "source": [
    "## Accessing the data\n",
    "Training set"
   ]
  },
  {
   "cell_type": "code",
   "execution_count": 69,
   "id": "912a5d03",
   "metadata": {},
   "outputs": [
    {
     "data": {
      "text/plain": [
       "0      Y\n",
       "1      N\n",
       "2      Y\n",
       "3      Y\n",
       "4      Y\n",
       "      ..\n",
       "609    Y\n",
       "610    Y\n",
       "611    Y\n",
       "612    Y\n",
       "613    N\n",
       "Name: Loan_Status, Length: 614, dtype: object"
      ]
     },
     "execution_count": 69,
     "metadata": {},
     "output_type": "execute_result"
    }
   ],
   "source": [
    "# using readcsv as the data we have in exel is in the csv format\n",
    "train_set = pd.read_csv(\"LoanPredData/train_u6lujuX_CVtuZ9i.csv\")\n",
    "train_set_df = pd.DataFrame(train_set)\n",
    "xtrain_set_df_features = train_set_df.drop(\"Loan_Status\",axis=1)\n",
    "ytrain_set_df_target = train_set[\"Loan_Status\"]\n",
    "ytrain_set_df_target"
   ]
  },
  {
   "cell_type": "markdown",
   "id": "5e1cb119",
   "metadata": {},
   "source": [
    "## Accesing the data\n",
    "Test set"
   ]
  },
  {
   "cell_type": "code",
   "execution_count": 5,
   "id": "3f29fc96",
   "metadata": {},
   "outputs": [
    {
     "data": {
      "text/html": [
       "<div>\n",
       "<style scoped>\n",
       "    .dataframe tbody tr th:only-of-type {\n",
       "        vertical-align: middle;\n",
       "    }\n",
       "\n",
       "    .dataframe tbody tr th {\n",
       "        vertical-align: top;\n",
       "    }\n",
       "\n",
       "    .dataframe thead th {\n",
       "        text-align: right;\n",
       "    }\n",
       "</style>\n",
       "<table border=\"1\" class=\"dataframe\">\n",
       "  <thead>\n",
       "    <tr style=\"text-align: right;\">\n",
       "      <th></th>\n",
       "      <th>Loan_ID</th>\n",
       "      <th>Gender</th>\n",
       "      <th>Married</th>\n",
       "      <th>Dependents</th>\n",
       "      <th>Education</th>\n",
       "      <th>Self_Employed</th>\n",
       "      <th>ApplicantIncome</th>\n",
       "      <th>CoapplicantIncome</th>\n",
       "      <th>LoanAmount</th>\n",
       "      <th>Loan_Amount_Term</th>\n",
       "      <th>Credit_History</th>\n",
       "      <th>Property_Area</th>\n",
       "    </tr>\n",
       "  </thead>\n",
       "  <tbody>\n",
       "    <tr>\n",
       "      <th>0</th>\n",
       "      <td>LP001015</td>\n",
       "      <td>Male</td>\n",
       "      <td>Yes</td>\n",
       "      <td>0</td>\n",
       "      <td>Graduate</td>\n",
       "      <td>No</td>\n",
       "      <td>5720</td>\n",
       "      <td>0</td>\n",
       "      <td>110.0</td>\n",
       "      <td>360.0</td>\n",
       "      <td>1.0</td>\n",
       "      <td>Urban</td>\n",
       "    </tr>\n",
       "    <tr>\n",
       "      <th>1</th>\n",
       "      <td>LP001022</td>\n",
       "      <td>Male</td>\n",
       "      <td>Yes</td>\n",
       "      <td>1</td>\n",
       "      <td>Graduate</td>\n",
       "      <td>No</td>\n",
       "      <td>3076</td>\n",
       "      <td>1500</td>\n",
       "      <td>126.0</td>\n",
       "      <td>360.0</td>\n",
       "      <td>1.0</td>\n",
       "      <td>Urban</td>\n",
       "    </tr>\n",
       "    <tr>\n",
       "      <th>2</th>\n",
       "      <td>LP001031</td>\n",
       "      <td>Male</td>\n",
       "      <td>Yes</td>\n",
       "      <td>2</td>\n",
       "      <td>Graduate</td>\n",
       "      <td>No</td>\n",
       "      <td>5000</td>\n",
       "      <td>1800</td>\n",
       "      <td>208.0</td>\n",
       "      <td>360.0</td>\n",
       "      <td>1.0</td>\n",
       "      <td>Urban</td>\n",
       "    </tr>\n",
       "    <tr>\n",
       "      <th>3</th>\n",
       "      <td>LP001035</td>\n",
       "      <td>Male</td>\n",
       "      <td>Yes</td>\n",
       "      <td>2</td>\n",
       "      <td>Graduate</td>\n",
       "      <td>No</td>\n",
       "      <td>2340</td>\n",
       "      <td>2546</td>\n",
       "      <td>100.0</td>\n",
       "      <td>360.0</td>\n",
       "      <td>NaN</td>\n",
       "      <td>Urban</td>\n",
       "    </tr>\n",
       "    <tr>\n",
       "      <th>4</th>\n",
       "      <td>LP001051</td>\n",
       "      <td>Male</td>\n",
       "      <td>No</td>\n",
       "      <td>0</td>\n",
       "      <td>Not Graduate</td>\n",
       "      <td>No</td>\n",
       "      <td>3276</td>\n",
       "      <td>0</td>\n",
       "      <td>78.0</td>\n",
       "      <td>360.0</td>\n",
       "      <td>1.0</td>\n",
       "      <td>Urban</td>\n",
       "    </tr>\n",
       "    <tr>\n",
       "      <th>...</th>\n",
       "      <td>...</td>\n",
       "      <td>...</td>\n",
       "      <td>...</td>\n",
       "      <td>...</td>\n",
       "      <td>...</td>\n",
       "      <td>...</td>\n",
       "      <td>...</td>\n",
       "      <td>...</td>\n",
       "      <td>...</td>\n",
       "      <td>...</td>\n",
       "      <td>...</td>\n",
       "      <td>...</td>\n",
       "    </tr>\n",
       "    <tr>\n",
       "      <th>362</th>\n",
       "      <td>LP002971</td>\n",
       "      <td>Male</td>\n",
       "      <td>Yes</td>\n",
       "      <td>3+</td>\n",
       "      <td>Not Graduate</td>\n",
       "      <td>Yes</td>\n",
       "      <td>4009</td>\n",
       "      <td>1777</td>\n",
       "      <td>113.0</td>\n",
       "      <td>360.0</td>\n",
       "      <td>1.0</td>\n",
       "      <td>Urban</td>\n",
       "    </tr>\n",
       "    <tr>\n",
       "      <th>363</th>\n",
       "      <td>LP002975</td>\n",
       "      <td>Male</td>\n",
       "      <td>Yes</td>\n",
       "      <td>0</td>\n",
       "      <td>Graduate</td>\n",
       "      <td>No</td>\n",
       "      <td>4158</td>\n",
       "      <td>709</td>\n",
       "      <td>115.0</td>\n",
       "      <td>360.0</td>\n",
       "      <td>1.0</td>\n",
       "      <td>Urban</td>\n",
       "    </tr>\n",
       "    <tr>\n",
       "      <th>364</th>\n",
       "      <td>LP002980</td>\n",
       "      <td>Male</td>\n",
       "      <td>No</td>\n",
       "      <td>0</td>\n",
       "      <td>Graduate</td>\n",
       "      <td>No</td>\n",
       "      <td>3250</td>\n",
       "      <td>1993</td>\n",
       "      <td>126.0</td>\n",
       "      <td>360.0</td>\n",
       "      <td>NaN</td>\n",
       "      <td>Semiurban</td>\n",
       "    </tr>\n",
       "    <tr>\n",
       "      <th>365</th>\n",
       "      <td>LP002986</td>\n",
       "      <td>Male</td>\n",
       "      <td>Yes</td>\n",
       "      <td>0</td>\n",
       "      <td>Graduate</td>\n",
       "      <td>No</td>\n",
       "      <td>5000</td>\n",
       "      <td>2393</td>\n",
       "      <td>158.0</td>\n",
       "      <td>360.0</td>\n",
       "      <td>1.0</td>\n",
       "      <td>Rural</td>\n",
       "    </tr>\n",
       "    <tr>\n",
       "      <th>366</th>\n",
       "      <td>LP002989</td>\n",
       "      <td>Male</td>\n",
       "      <td>No</td>\n",
       "      <td>0</td>\n",
       "      <td>Graduate</td>\n",
       "      <td>Yes</td>\n",
       "      <td>9200</td>\n",
       "      <td>0</td>\n",
       "      <td>98.0</td>\n",
       "      <td>180.0</td>\n",
       "      <td>1.0</td>\n",
       "      <td>Rural</td>\n",
       "    </tr>\n",
       "  </tbody>\n",
       "</table>\n",
       "<p>367 rows × 12 columns</p>\n",
       "</div>"
      ],
      "text/plain": [
       "      Loan_ID Gender Married Dependents     Education Self_Employed  \\\n",
       "0    LP001015   Male     Yes          0      Graduate            No   \n",
       "1    LP001022   Male     Yes          1      Graduate            No   \n",
       "2    LP001031   Male     Yes          2      Graduate            No   \n",
       "3    LP001035   Male     Yes          2      Graduate            No   \n",
       "4    LP001051   Male      No          0  Not Graduate            No   \n",
       "..        ...    ...     ...        ...           ...           ...   \n",
       "362  LP002971   Male     Yes         3+  Not Graduate           Yes   \n",
       "363  LP002975   Male     Yes          0      Graduate            No   \n",
       "364  LP002980   Male      No          0      Graduate            No   \n",
       "365  LP002986   Male     Yes          0      Graduate            No   \n",
       "366  LP002989   Male      No          0      Graduate           Yes   \n",
       "\n",
       "     ApplicantIncome  CoapplicantIncome  LoanAmount  Loan_Amount_Term  \\\n",
       "0               5720                  0       110.0             360.0   \n",
       "1               3076               1500       126.0             360.0   \n",
       "2               5000               1800       208.0             360.0   \n",
       "3               2340               2546       100.0             360.0   \n",
       "4               3276                  0        78.0             360.0   \n",
       "..               ...                ...         ...               ...   \n",
       "362             4009               1777       113.0             360.0   \n",
       "363             4158                709       115.0             360.0   \n",
       "364             3250               1993       126.0             360.0   \n",
       "365             5000               2393       158.0             360.0   \n",
       "366             9200                  0        98.0             180.0   \n",
       "\n",
       "     Credit_History Property_Area  \n",
       "0               1.0         Urban  \n",
       "1               1.0         Urban  \n",
       "2               1.0         Urban  \n",
       "3               NaN         Urban  \n",
       "4               1.0         Urban  \n",
       "..              ...           ...  \n",
       "362             1.0         Urban  \n",
       "363             1.0         Urban  \n",
       "364             NaN     Semiurban  \n",
       "365             1.0         Rural  \n",
       "366             1.0         Rural  \n",
       "\n",
       "[367 rows x 12 columns]"
      ]
     },
     "execution_count": 5,
     "metadata": {},
     "output_type": "execute_result"
    }
   ],
   "source": [
    "test_Set = pd.read_csv(\"LoanPredData/test_Y3wMUE5_7gLdaTN.csv\")\n",
    "xtest_Set_df = pd.DataFrame(test_Set)\n",
    "xtest_Set_df"
   ]
  },
  {
   "cell_type": "code",
   "execution_count": 6,
   "id": "58acff4f",
   "metadata": {},
   "outputs": [
    {
     "data": {
      "text/plain": [
       "(614, 367)"
      ]
     },
     "execution_count": 6,
     "metadata": {},
     "output_type": "execute_result"
    }
   ],
   "source": [
    "# size of the data we have\n",
    "len(train_set_df),len(xtest_Set_df)"
   ]
  },
  {
   "cell_type": "markdown",
   "id": "b7ad8f52",
   "metadata": {},
   "source": [
    "# Exploratory Data Analysis( EDA)\n",
    "1) What are we trying to solve\n",
    "\n",
    "We are trying to create a ml model which will tell us how much loan the user can obtain using various attributes\n",
    "\n",
    "2) Type of Data we have\n",
    "\n",
    "We got the data both in numbers and strings also integers and strings mixed\n",
    "\n",
    "3) Missing Values\n",
    "\n",
    "We will be checking that int the code below\n",
    "\n",
    "4) What are the outliers(Random samples too different from other or not)\n",
    "\n",
    "Outliers are those data points that are significantly different from the rest of the dataset. They are often abnormal observations that skew the data distribution, and arise due to inconsistent data entry, or erroneous observations, will check that also\n",
    "\n",
    "5) Add change or remove features to get the most out of our data\n",
    "\n",
    "\n"
   ]
  },
  {
   "cell_type": "code",
   "execution_count": 7,
   "id": "c740221d",
   "metadata": {},
   "outputs": [
    {
     "data": {
      "text/plain": [
       "Loan_ID               0\n",
       "Gender               13\n",
       "Married               3\n",
       "Dependents           15\n",
       "Education             0\n",
       "Self_Employed        32\n",
       "ApplicantIncome       0\n",
       "CoapplicantIncome     0\n",
       "LoanAmount           22\n",
       "Loan_Amount_Term     14\n",
       "Credit_History       50\n",
       "Property_Area         0\n",
       "Loan_Status           0\n",
       "dtype: int64"
      ]
     },
     "execution_count": 7,
     "metadata": {},
     "output_type": "execute_result"
    }
   ],
   "source": [
    "# Checking for missing values and yes we have too many of them\n",
    "train_set.isna().sum()"
   ]
  },
  {
   "cell_type": "code",
   "execution_count": 8,
   "id": "5f251c18",
   "metadata": {},
   "outputs": [
    {
     "data": {
      "text/plain": [
       "[str,\n",
       " str,\n",
       " str,\n",
       " str,\n",
       " str,\n",
       " str,\n",
       " numpy.int64,\n",
       " numpy.float64,\n",
       " numpy.float64,\n",
       " numpy.float64,\n",
       " numpy.float64,\n",
       " str,\n",
       " str]"
      ]
     },
     "execution_count": 8,
     "metadata": {},
     "output_type": "execute_result"
    }
   ],
   "source": [
    "# checking for the data types of each columns\n",
    "type_testing_list = []\n",
    "for key,value in enumerate(train_set_df):\n",
    "    x = type(train_set_df[value][6])\n",
    "    type_testing_list.append(x)\n",
    "type_testing_list\n",
    "\n",
    "# # (other method)code for checking the length,dtype of each column\n",
    "# for key,values in train_set_df.iteritems():\n",
    "#     print(key,values)"
   ]
  },
  {
   "cell_type": "markdown",
   "id": "13e667fc",
   "metadata": {},
   "source": [
    "### Now we will be checking wether the user is eligible for loan or not ,using classification models"
   ]
  },
  {
   "cell_type": "code",
   "execution_count": 9,
   "id": "8e6b631f",
   "metadata": {},
   "outputs": [
    {
     "data": {
      "text/plain": [
       "Loan_Status\n",
       "Y    422\n",
       "N    192\n",
       "dtype: int64"
      ]
     },
     "execution_count": 9,
     "metadata": {},
     "output_type": "execute_result"
    },
    {
     "data": {
      "image/png": "[encoded data removed]",
      "text/plain": [
       "<Figure size 640x480 with 1 Axes>"
      ]
     },
     "metadata": {},
     "output_type": "display_data"
    }
   ],
   "source": [
    "# first finding out how many of classes are there on our target variable\n",
    "loan_status = train_set_df.value_counts(\"Loan_Status\")\n",
    "loan_status.plot(kind=\"bar\",color=[\"Green\",\"Blue\"])\n",
    "loan_status"
   ]
  },
  {
   "cell_type": "code",
   "execution_count": 10,
   "id": "9a9aff40",
   "metadata": {
    "scrolled": true
   },
   "outputs": [
    {
     "name": "stdout",
     "output_type": "stream",
     "text": [
      "<class 'pandas.core.frame.DataFrame'>\n",
      "RangeIndex: 614 entries, 0 to 613\n",
      "Data columns (total 13 columns):\n",
      " #   Column             Non-Null Count  Dtype  \n",
      "---  ------             --------------  -----  \n",
      " 0   Loan_ID            614 non-null    object \n",
      " 1   Gender             601 non-null    object \n",
      " 2   Married            611 non-null    object \n",
      " 3   Dependents         599 non-null    object \n",
      " 4   Education          614 non-null    object \n",
      " 5   Self_Employed      582 non-null    object \n",
      " 6   ApplicantIncome    614 non-null    int64  \n",
      " 7   CoapplicantIncome  614 non-null    float64\n",
      " 8   LoanAmount         592 non-null    float64\n",
      " 9   Loan_Amount_Term   600 non-null    float64\n",
      " 10  Credit_History     564 non-null    float64\n",
      " 11  Property_Area      614 non-null    object \n",
      " 12  Loan_Status        614 non-null    object \n",
      "dtypes: float64(4), int64(1), object(8)\n",
      "memory usage: 62.5+ KB\n"
     ]
    }
   ],
   "source": [
    "train_set_df.info()"
   ]
  },
  {
   "cell_type": "code",
   "execution_count": 11,
   "id": "3c44b30f",
   "metadata": {},
   "outputs": [
    {
     "data": {
      "text/html": [
       "<div>\n",
       "<style scoped>\n",
       "    .dataframe tbody tr th:only-of-type {\n",
       "        vertical-align: middle;\n",
       "    }\n",
       "\n",
       "    .dataframe tbody tr th {\n",
       "        vertical-align: top;\n",
       "    }\n",
       "\n",
       "    .dataframe thead th {\n",
       "        text-align: right;\n",
       "    }\n",
       "</style>\n",
       "<table border=\"1\" class=\"dataframe\">\n",
       "  <thead>\n",
       "    <tr style=\"text-align: right;\">\n",
       "      <th></th>\n",
       "      <th>ApplicantIncome</th>\n",
       "      <th>CoapplicantIncome</th>\n",
       "      <th>LoanAmount</th>\n",
       "      <th>Loan_Amount_Term</th>\n",
       "      <th>Credit_History</th>\n",
       "    </tr>\n",
       "  </thead>\n",
       "  <tbody>\n",
       "    <tr>\n",
       "      <th>count</th>\n",
       "      <td>614.000000</td>\n",
       "      <td>614.000000</td>\n",
       "      <td>592.000000</td>\n",
       "      <td>600.00000</td>\n",
       "      <td>564.000000</td>\n",
       "    </tr>\n",
       "    <tr>\n",
       "      <th>mean</th>\n",
       "      <td>5403.459283</td>\n",
       "      <td>1621.245798</td>\n",
       "      <td>146.412162</td>\n",
       "      <td>342.00000</td>\n",
       "      <td>0.842199</td>\n",
       "    </tr>\n",
       "    <tr>\n",
       "      <th>std</th>\n",
       "      <td>6109.041673</td>\n",
       "      <td>2926.248369</td>\n",
       "      <td>85.587325</td>\n",
       "      <td>65.12041</td>\n",
       "      <td>0.364878</td>\n",
       "    </tr>\n",
       "    <tr>\n",
       "      <th>min</th>\n",
       "      <td>150.000000</td>\n",
       "      <td>0.000000</td>\n",
       "      <td>9.000000</td>\n",
       "      <td>12.00000</td>\n",
       "      <td>0.000000</td>\n",
       "    </tr>\n",
       "    <tr>\n",
       "      <th>25%</th>\n",
       "      <td>2877.500000</td>\n",
       "      <td>0.000000</td>\n",
       "      <td>100.000000</td>\n",
       "      <td>360.00000</td>\n",
       "      <td>1.000000</td>\n",
       "    </tr>\n",
       "    <tr>\n",
       "      <th>50%</th>\n",
       "      <td>3812.500000</td>\n",
       "      <td>1188.500000</td>\n",
       "      <td>128.000000</td>\n",
       "      <td>360.00000</td>\n",
       "      <td>1.000000</td>\n",
       "    </tr>\n",
       "    <tr>\n",
       "      <th>75%</th>\n",
       "      <td>5795.000000</td>\n",
       "      <td>2297.250000</td>\n",
       "      <td>168.000000</td>\n",
       "      <td>360.00000</td>\n",
       "      <td>1.000000</td>\n",
       "    </tr>\n",
       "    <tr>\n",
       "      <th>max</th>\n",
       "      <td>81000.000000</td>\n",
       "      <td>41667.000000</td>\n",
       "      <td>700.000000</td>\n",
       "      <td>480.00000</td>\n",
       "      <td>1.000000</td>\n",
       "    </tr>\n",
       "  </tbody>\n",
       "</table>\n",
       "</div>"
      ],
      "text/plain": [
       "       ApplicantIncome  CoapplicantIncome  LoanAmount  Loan_Amount_Term  \\\n",
       "count       614.000000         614.000000  592.000000         600.00000   \n",
       "mean       5403.459283        1621.245798  146.412162         342.00000   \n",
       "std        6109.041673        2926.248369   85.587325          65.12041   \n",
       "min         150.000000           0.000000    9.000000          12.00000   \n",
       "25%        2877.500000           0.000000  100.000000         360.00000   \n",
       "50%        3812.500000        1188.500000  128.000000         360.00000   \n",
       "75%        5795.000000        2297.250000  168.000000         360.00000   \n",
       "max       81000.000000       41667.000000  700.000000         480.00000   \n",
       "\n",
       "       Credit_History  \n",
       "count      564.000000  \n",
       "mean         0.842199  \n",
       "std          0.364878  \n",
       "min          0.000000  \n",
       "25%          1.000000  \n",
       "50%          1.000000  \n",
       "75%          1.000000  \n",
       "max          1.000000  "
      ]
     },
     "execution_count": 11,
     "metadata": {},
     "output_type": "execute_result"
    }
   ],
   "source": [
    "train_set_df.describe()"
   ]
  },
  {
   "cell_type": "markdown",
   "id": "e1e86f12",
   "metadata": {},
   "source": [
    "### Now we will be doing data study, like on what factors our model dependa"
   ]
  },
  {
   "cell_type": "code",
   "execution_count": 12,
   "id": "ac5bd01c",
   "metadata": {},
   "outputs": [
    {
     "data": {
      "text/plain": [
       "Gender\n",
       "Male      489\n",
       "Female    112\n",
       "dtype: int64"
      ]
     },
     "execution_count": 12,
     "metadata": {},
     "output_type": "execute_result"
    }
   ],
   "source": [
    "gender = train_set_df.value_counts(\"Gender\")\n",
    "gender"
   ]
  },
  {
   "cell_type": "markdown",
   "id": "9205c8a9",
   "metadata": {},
   "source": [
    "### comparing how gender affects the target variable loan status"
   ]
  },
  {
   "cell_type": "code",
   "execution_count": 13,
   "id": "452564a7",
   "metadata": {},
   "outputs": [
    {
     "data": {
      "text/html": [
       "<div>\n",
       "<style scoped>\n",
       "    .dataframe tbody tr th:only-of-type {\n",
       "        vertical-align: middle;\n",
       "    }\n",
       "\n",
       "    .dataframe tbody tr th {\n",
       "        vertical-align: top;\n",
       "    }\n",
       "\n",
       "    .dataframe thead th {\n",
       "        text-align: right;\n",
       "    }\n",
       "</style>\n",
       "<table border=\"1\" class=\"dataframe\">\n",
       "  <thead>\n",
       "    <tr style=\"text-align: right;\">\n",
       "      <th>Loan_Status</th>\n",
       "      <th>N</th>\n",
       "      <th>Y</th>\n",
       "    </tr>\n",
       "    <tr>\n",
       "      <th>Gender</th>\n",
       "      <th></th>\n",
       "      <th></th>\n",
       "    </tr>\n",
       "  </thead>\n",
       "  <tbody>\n",
       "    <tr>\n",
       "      <th>Female</th>\n",
       "      <td>37</td>\n",
       "      <td>75</td>\n",
       "    </tr>\n",
       "    <tr>\n",
       "      <th>Male</th>\n",
       "      <td>150</td>\n",
       "      <td>339</td>\n",
       "    </tr>\n",
       "  </tbody>\n",
       "</table>\n",
       "</div>"
      ],
      "text/plain": [
       "Loan_Status    N    Y\n",
       "Gender               \n",
       "Female        37   75\n",
       "Male         150  339"
      ]
     },
     "execution_count": 13,
     "metadata": {},
     "output_type": "execute_result"
    }
   ],
   "source": [
    "y = pd.crosstab(train_set_df[\"Gender\"],train_set_df[\"Loan_Status\"])\n",
    "y"
   ]
  },
  {
   "cell_type": "code",
   "execution_count": 14,
   "id": "51c6ba10",
   "metadata": {},
   "outputs": [
    {
     "data": {
      "text/plain": [
       "<Axes: xlabel='Gender'>"
      ]
     },
     "execution_count": 14,
     "metadata": {},
     "output_type": "execute_result"
    },
    {
     "data": {
      "image/png": "[encoded data removed]",
      "text/plain": [
       "<Figure size 400x300 with 1 Axes>"
      ]
     },
     "metadata": {},
     "output_type": "display_data"
    }
   ],
   "source": [
    "y.plot(kind=\"bar\",color=[\"salmon\",\"blue\"],figsize=(4,3))"
   ]
  },
  {
   "cell_type": "markdown",
   "id": "feb395e6",
   "metadata": {},
   "source": [
    "Damn, i guess we will have to first handle missing values\n",
    "\n",
    "les go then,\n",
    "### now we have two options \n",
    "first to remove all the rows with missing values but this can result in data loss and not working of the model correctly\n",
    "second is to replace the missing values, lets try the first method \n"
   ]
  },
  {
   "cell_type": "code",
   "execution_count": 15,
   "id": "7035fc39",
   "metadata": {},
   "outputs": [
    {
     "data": {
      "text/plain": [
       "Loan_ID               0\n",
       "Gender               13\n",
       "Married               3\n",
       "Dependents           15\n",
       "Education             0\n",
       "Self_Employed        32\n",
       "ApplicantIncome       0\n",
       "CoapplicantIncome     0\n",
       "LoanAmount           22\n",
       "Loan_Amount_Term     14\n",
       "Credit_History       50\n",
       "Property_Area         0\n",
       "Loan_Status           0\n",
       "dtype: int64"
      ]
     },
     "execution_count": 15,
     "metadata": {},
     "output_type": "execute_result"
    }
   ],
   "source": [
    "# train_set_df.dropna(subset=[\"Gender\",\"Married\",\"Dependents\",\"Self_Employed\",\"LoanAmount\",\"Loan_Amount_Term\",\n",
    "#                            \"Credit_History\"], inplace=True)\n",
    "train_set_df.isna().sum()"
   ]
  },
  {
   "cell_type": "markdown",
   "id": "dd112499",
   "metadata": {},
   "source": [
    "lmao there are no missing values in the target column,mb\n"
   ]
  },
  {
   "cell_type": "code",
   "execution_count": 16,
   "id": "94029798",
   "metadata": {},
   "outputs": [
    {
     "data": {
      "text/plain": [
       "614"
      ]
     },
     "execution_count": 16,
     "metadata": {},
     "output_type": "execute_result"
    }
   ],
   "source": [
    "# as we can see the data loss is too much, hence we will use the second option that is to \n",
    "# be rplacing values  now using imputer\n",
    "len(train_set_df)"
   ]
  },
  {
   "cell_type": "code",
   "execution_count": 17,
   "id": "b3823e4a",
   "metadata": {},
   "outputs": [],
   "source": [
    "## replacing missing values using imputer\n",
    "from sklearn.impute import SimpleImputer as SI\n",
    "from sklearn.compose import ColumnTransformer as CT\n",
    "# now here we will be filling string values with missing and integer values with mean\n",
    "typ1 = SI(strategy=\"constant\", fill_value=\"missing\")\n",
    "# Married_feature = SI(strategy=\"constant\", fill_value=\"missing\")\n",
    "typ2 = SI(strategy=\"constant\", fill_value=\"1\")\n",
    "# Self_emp_feature = SI(strategy=\"constant\", fill_value=\"missing\")\n",
    "typ3 = SI(strategy=\"mean\")\n",
    "col1 = [\"Loan_ID\",\"Gender\",\"Married\",\"Self_Employed\",\"ApplicantIncome\",\"CoapplicantIncome\",\"Property_Area\"]\n",
    "col2 = [\"Dependents\",\"Education\",\"Credit_History\"]\n",
    "col3 = [\"LoanAmount\",\"Loan_Amount_Term\"]\n",
    "# creating an imputer , SOmething that will fill on the missing data\n",
    "imputer = CT([(\"typ1\",typ1,col1),\n",
    "              (\"typ2\",typ2,col2),\n",
    "              (\"typ3\",typ3,col3)])\n",
    "\n",
    "# filled training set\n",
    "filled_train_Set = imputer.fit_transform(xtrain_set_df_features)\n",
    "len(filled_train_Set)\n",
    "\n",
    "##filling the new data into a new dataframe \n",
    "missing_val_filled_train_set_df = pd.DataFrame(filled_train_Set,\n",
    "                                              columns=[\"Loan_ID\",\"Gender\",\"Married\",\"Self_Employed\",\"ApplicantIncome\",\n",
    "                                                       \"CoapplicantIncome\",\"Property_Area\",\n",
    "                                                       \"Dependents\",\"Education\",\"Credit_History\",\"LoanAmount\",\n",
    "                                                       \"Loan_Amount_Term\"])"
   ]
  },
  {
   "cell_type": "code",
   "execution_count": 18,
   "id": "e93a53f6",
   "metadata": {},
   "outputs": [
    {
     "data": {
      "text/plain": [
       "Loan_ID              0\n",
       "Gender               0\n",
       "Married              0\n",
       "Self_Employed        0\n",
       "ApplicantIncome      0\n",
       "CoapplicantIncome    0\n",
       "Property_Area        0\n",
       "Dependents           0\n",
       "Education            0\n",
       "Credit_History       0\n",
       "LoanAmount           0\n",
       "Loan_Amount_Term     0\n",
       "dtype: int64"
      ]
     },
     "execution_count": 18,
     "metadata": {},
     "output_type": "execute_result"
    }
   ],
   "source": [
    "## NOW LETS CHECK WETHER WE FILLED THE MISSING VALUES OR NOT\n",
    "missing_val_filled_train_set_df.isna().sum()\n",
    "# train_set_df\n",
    "# filled_train_Set"
   ]
  },
  {
   "cell_type": "code",
   "execution_count": 19,
   "id": "8700d62d",
   "metadata": {},
   "outputs": [
    {
     "data": {
      "text/plain": [
       "614"
      ]
     },
     "execution_count": 19,
     "metadata": {},
     "output_type": "execute_result"
    }
   ],
   "source": [
    "# YES WE FILLED IT,  LETS CHECK THE LENGTH OF THE DATASET TO CHECK FOR DATA LOSS\n",
    "len(missing_val_filled_train_set_df)\n",
    "# NO DATA LOSS"
   ]
  },
  {
   "cell_type": "markdown",
   "id": "a8d0d43d",
   "metadata": {},
   "source": [
    "## Doing the data conversion from other dtypes to int\n",
    "so that it would be easier for our machine to work on it"
   ]
  },
  {
   "cell_type": "code",
   "execution_count": 20,
   "id": "d9cd9b85",
   "metadata": {},
   "outputs": [
    {
     "data": {
      "text/html": [
       "<div>\n",
       "<style scoped>\n",
       "    .dataframe tbody tr th:only-of-type {\n",
       "        vertical-align: middle;\n",
       "    }\n",
       "\n",
       "    .dataframe tbody tr th {\n",
       "        vertical-align: top;\n",
       "    }\n",
       "\n",
       "    .dataframe thead th {\n",
       "        text-align: right;\n",
       "    }\n",
       "</style>\n",
       "<table border=\"1\" class=\"dataframe\">\n",
       "  <thead>\n",
       "    <tr style=\"text-align: right;\">\n",
       "      <th></th>\n",
       "      <th>Loan_ID</th>\n",
       "      <th>Gender</th>\n",
       "      <th>Married</th>\n",
       "      <th>Self_Employed</th>\n",
       "      <th>ApplicantIncome</th>\n",
       "      <th>CoapplicantIncome</th>\n",
       "      <th>Property_Area</th>\n",
       "      <th>Dependents</th>\n",
       "      <th>Education</th>\n",
       "      <th>Credit_History</th>\n",
       "      <th>LoanAmount</th>\n",
       "      <th>Loan_Amount_Term</th>\n",
       "    </tr>\n",
       "  </thead>\n",
       "  <tbody>\n",
       "    <tr>\n",
       "      <th>0</th>\n",
       "      <td>LP001002</td>\n",
       "      <td>Male</td>\n",
       "      <td>No</td>\n",
       "      <td>No</td>\n",
       "      <td>5849</td>\n",
       "      <td>0.0</td>\n",
       "      <td>Urban</td>\n",
       "      <td>0</td>\n",
       "      <td>Graduate</td>\n",
       "      <td>1.0</td>\n",
       "      <td>146.412162</td>\n",
       "      <td>360.0</td>\n",
       "    </tr>\n",
       "    <tr>\n",
       "      <th>1</th>\n",
       "      <td>LP001003</td>\n",
       "      <td>Male</td>\n",
       "      <td>Yes</td>\n",
       "      <td>No</td>\n",
       "      <td>4583</td>\n",
       "      <td>1508.0</td>\n",
       "      <td>Rural</td>\n",
       "      <td>1</td>\n",
       "      <td>Graduate</td>\n",
       "      <td>1.0</td>\n",
       "      <td>128.0</td>\n",
       "      <td>360.0</td>\n",
       "    </tr>\n",
       "    <tr>\n",
       "      <th>2</th>\n",
       "      <td>LP001005</td>\n",
       "      <td>Male</td>\n",
       "      <td>Yes</td>\n",
       "      <td>Yes</td>\n",
       "      <td>3000</td>\n",
       "      <td>0.0</td>\n",
       "      <td>Urban</td>\n",
       "      <td>0</td>\n",
       "      <td>Graduate</td>\n",
       "      <td>1.0</td>\n",
       "      <td>66.0</td>\n",
       "      <td>360.0</td>\n",
       "    </tr>\n",
       "    <tr>\n",
       "      <th>3</th>\n",
       "      <td>LP001006</td>\n",
       "      <td>Male</td>\n",
       "      <td>Yes</td>\n",
       "      <td>No</td>\n",
       "      <td>2583</td>\n",
       "      <td>2358.0</td>\n",
       "      <td>Urban</td>\n",
       "      <td>0</td>\n",
       "      <td>Not Graduate</td>\n",
       "      <td>1.0</td>\n",
       "      <td>120.0</td>\n",
       "      <td>360.0</td>\n",
       "    </tr>\n",
       "    <tr>\n",
       "      <th>4</th>\n",
       "      <td>LP001008</td>\n",
       "      <td>Male</td>\n",
       "      <td>No</td>\n",
       "      <td>No</td>\n",
       "      <td>6000</td>\n",
       "      <td>0.0</td>\n",
       "      <td>Urban</td>\n",
       "      <td>0</td>\n",
       "      <td>Graduate</td>\n",
       "      <td>1.0</td>\n",
       "      <td>141.0</td>\n",
       "      <td>360.0</td>\n",
       "    </tr>\n",
       "    <tr>\n",
       "      <th>...</th>\n",
       "      <td>...</td>\n",
       "      <td>...</td>\n",
       "      <td>...</td>\n",
       "      <td>...</td>\n",
       "      <td>...</td>\n",
       "      <td>...</td>\n",
       "      <td>...</td>\n",
       "      <td>...</td>\n",
       "      <td>...</td>\n",
       "      <td>...</td>\n",
       "      <td>...</td>\n",
       "      <td>...</td>\n",
       "    </tr>\n",
       "    <tr>\n",
       "      <th>609</th>\n",
       "      <td>LP002978</td>\n",
       "      <td>Female</td>\n",
       "      <td>No</td>\n",
       "      <td>No</td>\n",
       "      <td>2900</td>\n",
       "      <td>0.0</td>\n",
       "      <td>Rural</td>\n",
       "      <td>0</td>\n",
       "      <td>Graduate</td>\n",
       "      <td>1.0</td>\n",
       "      <td>71.0</td>\n",
       "      <td>360.0</td>\n",
       "    </tr>\n",
       "    <tr>\n",
       "      <th>610</th>\n",
       "      <td>LP002979</td>\n",
       "      <td>Male</td>\n",
       "      <td>Yes</td>\n",
       "      <td>No</td>\n",
       "      <td>4106</td>\n",
       "      <td>0.0</td>\n",
       "      <td>Rural</td>\n",
       "      <td>3+</td>\n",
       "      <td>Graduate</td>\n",
       "      <td>1.0</td>\n",
       "      <td>40.0</td>\n",
       "      <td>180.0</td>\n",
       "    </tr>\n",
       "    <tr>\n",
       "      <th>611</th>\n",
       "      <td>LP002983</td>\n",
       "      <td>Male</td>\n",
       "      <td>Yes</td>\n",
       "      <td>No</td>\n",
       "      <td>8072</td>\n",
       "      <td>240.0</td>\n",
       "      <td>Urban</td>\n",
       "      <td>1</td>\n",
       "      <td>Graduate</td>\n",
       "      <td>1.0</td>\n",
       "      <td>253.0</td>\n",
       "      <td>360.0</td>\n",
       "    </tr>\n",
       "    <tr>\n",
       "      <th>612</th>\n",
       "      <td>LP002984</td>\n",
       "      <td>Male</td>\n",
       "      <td>Yes</td>\n",
       "      <td>No</td>\n",
       "      <td>7583</td>\n",
       "      <td>0.0</td>\n",
       "      <td>Urban</td>\n",
       "      <td>2</td>\n",
       "      <td>Graduate</td>\n",
       "      <td>1.0</td>\n",
       "      <td>187.0</td>\n",
       "      <td>360.0</td>\n",
       "    </tr>\n",
       "    <tr>\n",
       "      <th>613</th>\n",
       "      <td>LP002990</td>\n",
       "      <td>Female</td>\n",
       "      <td>No</td>\n",
       "      <td>Yes</td>\n",
       "      <td>4583</td>\n",
       "      <td>0.0</td>\n",
       "      <td>Semiurban</td>\n",
       "      <td>0</td>\n",
       "      <td>Graduate</td>\n",
       "      <td>0.0</td>\n",
       "      <td>133.0</td>\n",
       "      <td>360.0</td>\n",
       "    </tr>\n",
       "  </tbody>\n",
       "</table>\n",
       "<p>614 rows × 12 columns</p>\n",
       "</div>"
      ],
      "text/plain": [
       "      Loan_ID  Gender Married Self_Employed ApplicantIncome CoapplicantIncome  \\\n",
       "0    LP001002    Male      No            No            5849               0.0   \n",
       "1    LP001003    Male     Yes            No            4583            1508.0   \n",
       "2    LP001005    Male     Yes           Yes            3000               0.0   \n",
       "3    LP001006    Male     Yes            No            2583            2358.0   \n",
       "4    LP001008    Male      No            No            6000               0.0   \n",
       "..        ...     ...     ...           ...             ...               ...   \n",
       "609  LP002978  Female      No            No            2900               0.0   \n",
       "610  LP002979    Male     Yes            No            4106               0.0   \n",
       "611  LP002983    Male     Yes            No            8072             240.0   \n",
       "612  LP002984    Male     Yes            No            7583               0.0   \n",
       "613  LP002990  Female      No           Yes            4583               0.0   \n",
       "\n",
       "    Property_Area Dependents     Education Credit_History  LoanAmount  \\\n",
       "0           Urban          0      Graduate            1.0  146.412162   \n",
       "1           Rural          1      Graduate            1.0       128.0   \n",
       "2           Urban          0      Graduate            1.0        66.0   \n",
       "3           Urban          0  Not Graduate            1.0       120.0   \n",
       "4           Urban          0      Graduate            1.0       141.0   \n",
       "..            ...        ...           ...            ...         ...   \n",
       "609         Rural          0      Graduate            1.0        71.0   \n",
       "610         Rural         3+      Graduate            1.0        40.0   \n",
       "611         Urban          1      Graduate            1.0       253.0   \n",
       "612         Urban          2      Graduate            1.0       187.0   \n",
       "613     Semiurban          0      Graduate            0.0       133.0   \n",
       "\n",
       "    Loan_Amount_Term  \n",
       "0              360.0  \n",
       "1              360.0  \n",
       "2              360.0  \n",
       "3              360.0  \n",
       "4              360.0  \n",
       "..               ...  \n",
       "609            360.0  \n",
       "610            180.0  \n",
       "611            360.0  \n",
       "612            360.0  \n",
       "613            360.0  \n",
       "\n",
       "[614 rows x 12 columns]"
      ]
     },
     "execution_count": 20,
     "metadata": {},
     "output_type": "execute_result"
    }
   ],
   "source": [
    "missing_val_filled_train_set_df"
   ]
  },
  {
   "cell_type": "code",
   "execution_count": 78,
   "id": "58200569",
   "metadata": {},
   "outputs": [
    {
     "data": {
      "text/html": [
       "<div>\n",
       "<style scoped>\n",
       "    .dataframe tbody tr th:only-of-type {\n",
       "        vertical-align: middle;\n",
       "    }\n",
       "\n",
       "    .dataframe tbody tr th {\n",
       "        vertical-align: top;\n",
       "    }\n",
       "\n",
       "    .dataframe thead th {\n",
       "        text-align: right;\n",
       "    }\n",
       "</style>\n",
       "<table border=\"1\" class=\"dataframe\">\n",
       "  <thead>\n",
       "    <tr style=\"text-align: right;\">\n",
       "      <th></th>\n",
       "      <th>0</th>\n",
       "    </tr>\n",
       "  </thead>\n",
       "  <tbody>\n",
       "    <tr>\n",
       "      <th>0</th>\n",
       "      <td>(0, 0)\\t1.0\\n  (0, 615)\\t1.0\\n  (0, 617)\\t1....</td>\n",
       "    </tr>\n",
       "    <tr>\n",
       "      <th>1</th>\n",
       "      <td>(0, 1)\\t1.0\\n  (0, 615)\\t1.0\\n  (0, 618)\\t1....</td>\n",
       "    </tr>\n",
       "    <tr>\n",
       "      <th>2</th>\n",
       "      <td>(0, 2)\\t1.0\\n  (0, 615)\\t1.0\\n  (0, 618)\\t1....</td>\n",
       "    </tr>\n",
       "    <tr>\n",
       "      <th>3</th>\n",
       "      <td>(0, 3)\\t1.0\\n  (0, 615)\\t1.0\\n  (0, 618)\\t1....</td>\n",
       "    </tr>\n",
       "    <tr>\n",
       "      <th>4</th>\n",
       "      <td>(0, 4)\\t1.0\\n  (0, 615)\\t1.0\\n  (0, 617)\\t1....</td>\n",
       "    </tr>\n",
       "    <tr>\n",
       "      <th>...</th>\n",
       "      <td>...</td>\n",
       "    </tr>\n",
       "    <tr>\n",
       "      <th>609</th>\n",
       "      <td>(0, 609)\\t1.0\\n  (0, 614)\\t1.0\\n  (0, 617)\\t...</td>\n",
       "    </tr>\n",
       "    <tr>\n",
       "      <th>610</th>\n",
       "      <td>(0, 610)\\t1.0\\n  (0, 615)\\t1.0\\n  (0, 618)\\t...</td>\n",
       "    </tr>\n",
       "    <tr>\n",
       "      <th>611</th>\n",
       "      <td>(0, 611)\\t1.0\\n  (0, 615)\\t1.0\\n  (0, 618)\\t...</td>\n",
       "    </tr>\n",
       "    <tr>\n",
       "      <th>612</th>\n",
       "      <td>(0, 612)\\t1.0\\n  (0, 615)\\t1.0\\n  (0, 618)\\t...</td>\n",
       "    </tr>\n",
       "    <tr>\n",
       "      <th>613</th>\n",
       "      <td>(0, 613)\\t1.0\\n  (0, 614)\\t1.0\\n  (0, 617)\\t...</td>\n",
       "    </tr>\n",
       "  </tbody>\n",
       "</table>\n",
       "<p>614 rows × 1 columns</p>\n",
       "</div>"
      ],
      "text/plain": [
       "                                                     0\n",
       "0      (0, 0)\\t1.0\\n  (0, 615)\\t1.0\\n  (0, 617)\\t1....\n",
       "1      (0, 1)\\t1.0\\n  (0, 615)\\t1.0\\n  (0, 618)\\t1....\n",
       "2      (0, 2)\\t1.0\\n  (0, 615)\\t1.0\\n  (0, 618)\\t1....\n",
       "3      (0, 3)\\t1.0\\n  (0, 615)\\t1.0\\n  (0, 618)\\t1....\n",
       "4      (0, 4)\\t1.0\\n  (0, 615)\\t1.0\\n  (0, 617)\\t1....\n",
       "..                                                 ...\n",
       "609    (0, 609)\\t1.0\\n  (0, 614)\\t1.0\\n  (0, 617)\\t...\n",
       "610    (0, 610)\\t1.0\\n  (0, 615)\\t1.0\\n  (0, 618)\\t...\n",
       "611    (0, 611)\\t1.0\\n  (0, 615)\\t1.0\\n  (0, 618)\\t...\n",
       "612    (0, 612)\\t1.0\\n  (0, 615)\\t1.0\\n  (0, 618)\\t...\n",
       "613    (0, 613)\\t1.0\\n  (0, 614)\\t1.0\\n  (0, 617)\\t...\n",
       "\n",
       "[614 rows x 1 columns]"
      ]
     },
     "execution_count": 78,
     "metadata": {},
     "output_type": "execute_result"
    }
   ],
   "source": [
    "## .astype wont work as data has missing values such as NaN\n",
    "#train_set_df.astype(\"int\")\n",
    "## hence we will be usng one hot encoder, to encode all those values\n",
    "from sklearn.preprocessing import OneHotEncoder\n",
    "from sklearn.compose import ColumnTransformer\n",
    "#  0   Loan_ID            614 non-null    object \n",
    "#  1   Gender             601 non-null    object \n",
    "#  2   Married            611 non-null    object \n",
    "#  3   Dependents         599 non-null    object \n",
    "#  4   Education          614 non-null    object \n",
    "#  5   Self_Employed      582 non-null    object \n",
    "#  6   ApplicantIncome    614 non-null    int64  \n",
    "#  7   CoapplicantIncome  614 non-null    float64\n",
    "#  8   LoanAmount         592 non-null    float64\n",
    "#  9   Loan_Amount_Term   600 non-null    float64\n",
    "#  10  Credit_History     564 non-null    float64\n",
    "#  11  Property_Area      614 non-null    object \n",
    "#  12  Loan_Status        614 non-null    object\n",
    "missing_val_filled_train_set_df['CoapplicantIncome'] = missing_val_filled_train_set_df['CoapplicantIncome'].astype(str)\n",
    "missing_val_filled_train_set_df['LoanAmount'] = missing_val_filled_train_set_df['LoanAmount'].astype(str)\n",
    "missing_val_filled_train_set_df['Loan_Amount_Term'] = missing_val_filled_train_set_df['Loan_Amount_Term'].astype(str)\n",
    "missing_val_filled_train_set_df['Credit_History'] = missing_val_filled_train_set_df['Credit_History'].astype(str)\n",
    "\n",
    "\n",
    "feature_not_numbers = [\"Loan_ID\",\n",
    "                        \"Gender\",\n",
    "                        \"Married\",\n",
    "                        \"Dependents\",\n",
    "                        \"Education\",\n",
    "                        \"Self_Employed\",\n",
    "                        \"CoapplicantIncome\",\n",
    "                        \"LoanAmount\",\n",
    "                        \"Loan_Amount_Term\",\n",
    "                        \"Credit_History\",\n",
    "                        \"Property_Area\",\n",
    "                        ]\n",
    "one_hot = OneHotEncoder()\n",
    "transformer = CT([(\"one_hot\",one_hot,feature_not_numbers)],\n",
    "                remainder=\"passthrough\")\n",
    "transforemd_data = transformer.fit_transform(missing_val_filled_train_set_df)\n",
    "transforemd_train_Set_df = pd.DataFrame(transforemd_data)\n",
    "\n",
    "#### these are our final transformed features from the training set\n",
    "transforemd_train_Set_df"
   ]
  },
  {
   "cell_type": "code",
   "execution_count": 75,
   "id": "6579499b",
   "metadata": {},
   "outputs": [
    {
     "data": {
      "text/html": [
       "<div>\n",
       "<style scoped>\n",
       "    .dataframe tbody tr th:only-of-type {\n",
       "        vertical-align: middle;\n",
       "    }\n",
       "\n",
       "    .dataframe tbody tr th {\n",
       "        vertical-align: top;\n",
       "    }\n",
       "\n",
       "    .dataframe thead th {\n",
       "        text-align: right;\n",
       "    }\n",
       "</style>\n",
       "<table border=\"1\" class=\"dataframe\">\n",
       "  <thead>\n",
       "    <tr style=\"text-align: right;\">\n",
       "      <th></th>\n",
       "      <th>Loan_Status</th>\n",
       "    </tr>\n",
       "  </thead>\n",
       "  <tbody>\n",
       "    <tr>\n",
       "      <th>0</th>\n",
       "      <td>Y</td>\n",
       "    </tr>\n",
       "    <tr>\n",
       "      <th>1</th>\n",
       "      <td>N</td>\n",
       "    </tr>\n",
       "    <tr>\n",
       "      <th>2</th>\n",
       "      <td>Y</td>\n",
       "    </tr>\n",
       "    <tr>\n",
       "      <th>3</th>\n",
       "      <td>Y</td>\n",
       "    </tr>\n",
       "    <tr>\n",
       "      <th>4</th>\n",
       "      <td>Y</td>\n",
       "    </tr>\n",
       "    <tr>\n",
       "      <th>...</th>\n",
       "      <td>...</td>\n",
       "    </tr>\n",
       "    <tr>\n",
       "      <th>609</th>\n",
       "      <td>Y</td>\n",
       "    </tr>\n",
       "    <tr>\n",
       "      <th>610</th>\n",
       "      <td>Y</td>\n",
       "    </tr>\n",
       "    <tr>\n",
       "      <th>611</th>\n",
       "      <td>Y</td>\n",
       "    </tr>\n",
       "    <tr>\n",
       "      <th>612</th>\n",
       "      <td>Y</td>\n",
       "    </tr>\n",
       "    <tr>\n",
       "      <th>613</th>\n",
       "      <td>N</td>\n",
       "    </tr>\n",
       "  </tbody>\n",
       "</table>\n",
       "<p>614 rows × 1 columns</p>\n",
       "</div>"
      ],
      "text/plain": [
       "    Loan_Status\n",
       "0             Y\n",
       "1             N\n",
       "2             Y\n",
       "3             Y\n",
       "4             Y\n",
       "..          ...\n",
       "609           Y\n",
       "610           Y\n",
       "611           Y\n",
       "612           Y\n",
       "613           N\n",
       "\n",
       "[614 rows x 1 columns]"
      ]
     },
     "execution_count": 75,
     "metadata": {},
     "output_type": "execute_result"
    }
   ],
   "source": [
    "y_df = pd.DataFrame(ytrain_set_df_target)\n",
    "y_df"
   ]
  },
  {
   "cell_type": "code",
   "execution_count": 76,
   "id": "4f597345",
   "metadata": {},
   "outputs": [
    {
     "data": {
      "text/html": [
       "<div>\n",
       "<style scoped>\n",
       "    .dataframe tbody tr th:only-of-type {\n",
       "        vertical-align: middle;\n",
       "    }\n",
       "\n",
       "    .dataframe tbody tr th {\n",
       "        vertical-align: top;\n",
       "    }\n",
       "\n",
       "    .dataframe thead th {\n",
       "        text-align: right;\n",
       "    }\n",
       "</style>\n",
       "<table border=\"1\" class=\"dataframe\">\n",
       "  <thead>\n",
       "    <tr style=\"text-align: right;\">\n",
       "      <th></th>\n",
       "      <th>0</th>\n",
       "    </tr>\n",
       "  </thead>\n",
       "  <tbody>\n",
       "    <tr>\n",
       "      <th>0</th>\n",
       "      <td>(0, 1)\\t1.0</td>\n",
       "    </tr>\n",
       "    <tr>\n",
       "      <th>1</th>\n",
       "      <td>(0, 0)\\t1.0</td>\n",
       "    </tr>\n",
       "    <tr>\n",
       "      <th>2</th>\n",
       "      <td>(0, 1)\\t1.0</td>\n",
       "    </tr>\n",
       "    <tr>\n",
       "      <th>3</th>\n",
       "      <td>(0, 1)\\t1.0</td>\n",
       "    </tr>\n",
       "    <tr>\n",
       "      <th>4</th>\n",
       "      <td>(0, 1)\\t1.0</td>\n",
       "    </tr>\n",
       "    <tr>\n",
       "      <th>...</th>\n",
       "      <td>...</td>\n",
       "    </tr>\n",
       "    <tr>\n",
       "      <th>609</th>\n",
       "      <td>(0, 1)\\t1.0</td>\n",
       "    </tr>\n",
       "    <tr>\n",
       "      <th>610</th>\n",
       "      <td>(0, 1)\\t1.0</td>\n",
       "    </tr>\n",
       "    <tr>\n",
       "      <th>611</th>\n",
       "      <td>(0, 1)\\t1.0</td>\n",
       "    </tr>\n",
       "    <tr>\n",
       "      <th>612</th>\n",
       "      <td>(0, 1)\\t1.0</td>\n",
       "    </tr>\n",
       "    <tr>\n",
       "      <th>613</th>\n",
       "      <td>(0, 0)\\t1.0</td>\n",
       "    </tr>\n",
       "  </tbody>\n",
       "</table>\n",
       "<p>614 rows × 1 columns</p>\n",
       "</div>"
      ],
      "text/plain": [
       "                 0\n",
       "0      (0, 1)\\t1.0\n",
       "1      (0, 0)\\t1.0\n",
       "2      (0, 1)\\t1.0\n",
       "3      (0, 1)\\t1.0\n",
       "4      (0, 1)\\t1.0\n",
       "..             ...\n",
       "609    (0, 1)\\t1.0\n",
       "610    (0, 1)\\t1.0\n",
       "611    (0, 1)\\t1.0\n",
       "612    (0, 1)\\t1.0\n",
       "613    (0, 0)\\t1.0\n",
       "\n",
       "[614 rows x 1 columns]"
      ]
     },
     "execution_count": 76,
     "metadata": {},
     "output_type": "execute_result"
    }
   ],
   "source": [
    "# target_not_number = [\"Loan_Status\"]\n",
    "# transformer2 = CT([(\"one_hot\",one_hot,target_not_number)],\n",
    "#                  remainder=\"passthrough\")\n",
    "# ytransformed_target = transformer2.fit_transform(y_df)\n",
    "# \n",
    "\n",
    "#### This is our final transformed target from our training set\n",
    "# ytransformed_target_train_set_df\n",
    "\n",
    "ytransformed_target = one_hot.fit_transform(y_df[[\"Loan_Status\"]])\n",
    "ytransformed_target_train_set_df = pd.DataFrame(ytransformed_target)\n",
    "ytransformed_target_train_set_df"
   ]
  },
  {
   "cell_type": "code",
   "execution_count": 24,
   "id": "dbbc9776",
   "metadata": {},
   "outputs": [],
   "source": [
    "# plt.scatter(missing_val_filled_train_set_df.ApplicantIncome[missing_val_filled_train_set_df.Loan_Status==\"Y\"],\n",
    "#             missing_val_filled_train_set_df.Dependents[missing_val_filled_train_set_df.Loan_Status==\"Y\"],\n",
    "#       #      train_set_df.Education[train_set_df.Loan_Status==\"Y\"],\n",
    "#            c=\"salmon\")"
   ]
  },
  {
   "cell_type": "code",
   "execution_count": null,
   "id": "483e1ada",
   "metadata": {},
   "outputs": [],
   "source": []
  },
  {
   "cell_type": "code",
   "execution_count": 25,
   "id": "38f9b81b",
   "metadata": {},
   "outputs": [],
   "source": [
    "# plt.scatter(missing_val_filled_train_set_df.ApplicantIncome[missing_val_filled_train_set_df.Loan_Status==\"N\"],\n",
    "#             missing_val_filled_train_set_df.Dependents[missing_val_filled_train_set_df.Loan_Status==\"N\"],\n",
    "#       #      train_set_df.Education[train_set_df.Loan_Status==\"Y\"],\n",
    "#            c=\"salmon\")\n"
   ]
  },
  {
   "cell_type": "markdown",
   "id": "18cdb588",
   "metadata": {},
   "source": [
    "# Checking progress\n",
    "\n",
    " 1) Data was successfully loaded\n",
    "2) Handled the missing values\n",
    "3) data converted to numerical format for the machine to understand easily\n",
    "4) EDA was done on various attributes\n",
    "\n",
    "# Now we will start evaluating our model"
   ]
  },
  {
   "cell_type": "code",
   "execution_count": 77,
   "id": "97a8d760",
   "metadata": {},
   "outputs": [
    {
     "name": "stdout",
     "output_type": "stream",
     "text": [
      "<class 'pandas.core.frame.DataFrame'>\n",
      "RangeIndex: 367 entries, 0 to 366\n",
      "Data columns (total 12 columns):\n",
      " #   Column             Non-Null Count  Dtype  \n",
      "---  ------             --------------  -----  \n",
      " 0   Loan_ID            367 non-null    object \n",
      " 1   Gender             356 non-null    object \n",
      " 2   Married            367 non-null    object \n",
      " 3   Dependents         357 non-null    object \n",
      " 4   Education          367 non-null    object \n",
      " 5   Self_Employed      344 non-null    object \n",
      " 6   ApplicantIncome    367 non-null    int64  \n",
      " 7   CoapplicantIncome  367 non-null    int64  \n",
      " 8   LoanAmount         362 non-null    float64\n",
      " 9   Loan_Amount_Term   361 non-null    float64\n",
      " 10  Credit_History     338 non-null    float64\n",
      " 11  Property_Area      367 non-null    object \n",
      "dtypes: float64(3), int64(2), object(7)\n",
      "memory usage: 34.5+ KB\n"
     ]
    }
   ],
   "source": [
    "# lmao ded , we need to make the test dataset also work ready, damn\n",
    "xtest_Set_df.isna().sum()\n",
    "xtest_Set_df.info()"
   ]
  },
  {
   "cell_type": "code",
   "execution_count": 132,
   "id": "7a075a65",
   "metadata": {},
   "outputs": [
    {
     "data": {
      "text/plain": [
       "<614x1138 sparse matrix of type '<class 'numpy.float64'>'\n",
       "\twith 7368 stored elements in Compressed Sparse Row format>"
      ]
     },
     "execution_count": 132,
     "metadata": {},
     "output_type": "execute_result"
    }
   ],
   "source": [
    "## replacing missing values using imputer\n",
    "from sklearn.impute import SimpleImputer as SI\n",
    "from sklearn.compose import ColumnTransformer as CT\n",
    "# now here we will be filling string values with missing and integer values with mean\n",
    "typ1 = SI(strategy=\"constant\", fill_value=\"missing\")\n",
    "# Married_feature = SI(strategy=\"constant\", fill_value=\"missing\")\n",
    "typ2 = SI(strategy=\"constant\", fill_value=\"1\")\n",
    "# Self_emp_feature = SI(strategy=\"constant\", fill_value=\"missing\")\n",
    "typ3 = SI(strategy=\"mean\")\n",
    "col1 = [\"Loan_ID\",\"Gender\",\"Married\",\"Self_Employed\",\"ApplicantIncome\",\"CoapplicantIncome\",\"Property_Area\"]\n",
    "col2 = [\"Dependents\",\"Education\",\"Credit_History\"]\n",
    "col3 = [\"LoanAmount\",\"Loan_Amount_Term\"]\n",
    "# creating an imputer , SOmething that will fill on the missing d\"ata\n",
    "imputer = CT([(\"typ1\",typ1,col1),\n",
    "              (\"typ2\",typ2,col2),\n",
    "              (\"typ3\",typ3,col3)])\n",
    "\n",
    "# filled training set\n",
    "filled_test_Set = imputer.fit_transform(xtest_Set_df)\n",
    "len(filled_test_Set)\n",
    "\n",
    "##filling the new data into a new dataframe \n",
    "missing_val_filled_test_set_df = pd.DataFrame(filled_train_Set,\n",
    "                                              columns=[\"Loan_ID\",\"Gender\",\"Married\",\"Self_Employed\",\"ApplicantIncome\",\n",
    "                                                       \"CoapplicantIncome\",\"Property_Area\",\n",
    "                                                       \"Dependents\",\"Education\",\"Credit_History\",\"LoanAmount\",\n",
    "                                                       \"Loan_Amount_Term\"])\n",
    "missing_val_filled_test_set_df\n",
    "\n",
    "missing_val_filled_test_set_df['CoapplicantIncome'] = missing_val_filled_test_set_df['CoapplicantIncome'].astype(str)\n",
    "missing_val_filled_test_set_df['LoanAmount'] = missing_val_filled_test_set_df['LoanAmount'].astype(str)\n",
    "missing_val_filled_test_set_df['Loan_Amount_Term'] = missing_val_filled_test_set_df['Loan_Amount_Term'].astype(str)\n",
    "missing_val_filled_test_set_df['Credit_History'] = missing_val_filled_test_set_df['Credit_History'].astype(str)\n",
    "########## converting to numerical format using one hot encoding\n",
    "feature_not_numbers = [\"Loan_ID\",\n",
    "                        \"Gender\",\n",
    "                        \"Married\",\n",
    "                        \"Dependents\",\n",
    "                        \"Education\",\n",
    "                        \"Self_Employed\",\n",
    "                        \"CoapplicantIncome\",\n",
    "                        \"LoanAmount\",\n",
    "                        \"Loan_Amount_Term\",\n",
    "                        \"Credit_History\",\n",
    "                        \"Property_Area\",\n",
    "                        ]\n",
    "one_hot = OneHotEncoder()\n",
    "transformer = CT([(\"one_hot\",one_hot,feature_not_numbers)],\n",
    "                remainder=\"passthrough\")\n",
    "transforemd_test_data = transformer.fit_transform(missing_val_filled_test_set_df)\n",
    "transforemd_test_Set_df = pd.DataFrame(transforemd_data)\n",
    "\n",
    "#### these are our final transformed features from the test set\n",
    "transforemd_test_data"
   ]
  },
  {
   "cell_type": "code",
   "execution_count": 139,
   "id": "485d8b51",
   "metadata": {},
   "outputs": [
    {
     "data": {
      "text/plain": [
       "<614x2 sparse matrix of type '<class 'numpy.float64'>'\n",
       "\twith 614 stored elements in Compressed Sparse Row format>"
      ]
     },
     "execution_count": 139,
     "metadata": {},
     "output_type": "execute_result"
    }
   ],
   "source": [
    "x_train = transforemd_data\n",
    "y_train = ytransformed_target\n",
    "x_test = transforemd_test_Set_df\n",
    "ytransformed_target\n",
    "# len(transforemd_train_Set_df)\n",
    "# x_train_array = x_train.toarray().astype(np.float32)\n",
    "# y_train_array = y_train.toarray().astype(np.float32)\n",
    "# we also need to find the values of y_test to complete this code\n",
    "# x_train[0] = pd.to_numeric(x_train[0], errors='coerce')\n",
    "# y_train[0] = pd.to_numeric(y_train[0], errors='coerce')"
   ]
  },
  {
   "cell_type": "markdown",
   "id": "7d3db356",
   "metadata": {},
   "source": [
    "# Training our model\n",
    "1) Model Selection\n",
    "\n",
    "using the sci-kit learn cheatsheet we are gonna use the following ml models for this project.\n",
    "If one of them doesnt work we will try the other one\n",
    "\n",
    "-> Linear SVC \n",
    "-> KNeighbors Classifier\n",
    "-> SVC (Ensemble Classifier)"
   ]
  },
  {
   "cell_type": "code",
   "execution_count": 114,
   "id": "103372ad",
   "metadata": {},
   "outputs": [
    {
     "name": "stdout",
     "output_type": "stream",
     "text": [
      "<class 'pandas.core.frame.DataFrame'>\n",
      "RangeIndex: 614 entries, 0 to 613\n",
      "Data columns (total 1 columns):\n",
      " #   Column  Non-Null Count  Dtype \n",
      "---  ------  --------------  ----- \n",
      " 0   0       614 non-null    object\n",
      "dtypes: object(1)\n",
      "memory usage: 4.9+ KB\n"
     ]
    }
   ],
   "source": [
    "transforemd_train_Set_df.info()"
   ]
  },
  {
   "cell_type": "code",
   "execution_count": 140,
   "id": "664f1d09",
   "metadata": {},
   "outputs": [
    {
     "ename": "TypeError",
     "evalue": "A sparse matrix was passed, but dense data is required. Use X.toarray() to convert to a dense numpy array.",
     "output_type": "error",
     "traceback": [
      "\u001b[1;31m---------------------------------------------------------------------------\u001b[0m",
      "\u001b[1;31mTypeError\u001b[0m                                 Traceback (most recent call last)",
      "Cell \u001b[1;32mIn[140], line 12\u001b[0m\n\u001b[0;32m      8\u001b[0m model \u001b[38;5;241m=\u001b[39m LinearSVC()\n\u001b[0;32m      9\u001b[0m \u001b[38;5;66;03m# fitted = model.fit(x_train,y_train)\u001b[39;00m\n\u001b[0;32m     10\u001b[0m \u001b[38;5;66;03m# score = fitted.score(x_test,y_train)\u001b[39;00m\n\u001b[0;32m     11\u001b[0m \u001b[38;5;66;03m# score\u001b[39;00m\n\u001b[1;32m---> 12\u001b[0m model\u001b[38;5;241m.\u001b[39mfit(X_train,y_train)\n\u001b[0;32m     13\u001b[0m model\u001b[38;5;241m.\u001b[39mscore(X_test,y_test)\n",
      "File \u001b[1;32m~\\desktop\\MLDL projects\\env\\Lib\\site-packages\\sklearn\\svm\\_classes.py:263\u001b[0m, in \u001b[0;36mLinearSVC.fit\u001b[1;34m(self, X, y, sample_weight)\u001b[0m\n\u001b[0;32m    238\u001b[0m \u001b[38;5;250m\u001b[39m\u001b[38;5;124;03m\"\"\"Fit the model according to the given training data.\u001b[39;00m\n\u001b[0;32m    239\u001b[0m \n\u001b[0;32m    240\u001b[0m \u001b[38;5;124;03mParameters\u001b[39;00m\n\u001b[1;32m   (...)\u001b[0m\n\u001b[0;32m    259\u001b[0m \u001b[38;5;124;03m    An instance of the estimator.\u001b[39;00m\n\u001b[0;32m    260\u001b[0m \u001b[38;5;124;03m\"\"\"\u001b[39;00m\n\u001b[0;32m    261\u001b[0m \u001b[38;5;28mself\u001b[39m\u001b[38;5;241m.\u001b[39m_validate_params()\n\u001b[1;32m--> 263\u001b[0m X, y \u001b[38;5;241m=\u001b[39m \u001b[38;5;28mself\u001b[39m\u001b[38;5;241m.\u001b[39m_validate_data(\n\u001b[0;32m    264\u001b[0m     X,\n\u001b[0;32m    265\u001b[0m     y,\n\u001b[0;32m    266\u001b[0m     accept_sparse\u001b[38;5;241m=\u001b[39m\u001b[38;5;124m\"\u001b[39m\u001b[38;5;124mcsr\u001b[39m\u001b[38;5;124m\"\u001b[39m,\n\u001b[0;32m    267\u001b[0m     dtype\u001b[38;5;241m=\u001b[39mnp\u001b[38;5;241m.\u001b[39mfloat64,\n\u001b[0;32m    268\u001b[0m     order\u001b[38;5;241m=\u001b[39m\u001b[38;5;124m\"\u001b[39m\u001b[38;5;124mC\u001b[39m\u001b[38;5;124m\"\u001b[39m,\n\u001b[0;32m    269\u001b[0m     accept_large_sparse\u001b[38;5;241m=\u001b[39m\u001b[38;5;28;01mFalse\u001b[39;00m,\n\u001b[0;32m    270\u001b[0m )\n\u001b[0;32m    271\u001b[0m check_classification_targets(y)\n\u001b[0;32m    272\u001b[0m \u001b[38;5;28mself\u001b[39m\u001b[38;5;241m.\u001b[39mclasses_ \u001b[38;5;241m=\u001b[39m np\u001b[38;5;241m.\u001b[39munique(y)\n",
      "File \u001b[1;32m~\\desktop\\MLDL projects\\env\\Lib\\site-packages\\sklearn\\base.py:584\u001b[0m, in \u001b[0;36mBaseEstimator._validate_data\u001b[1;34m(self, X, y, reset, validate_separately, **check_params)\u001b[0m\n\u001b[0;32m    582\u001b[0m         y \u001b[38;5;241m=\u001b[39m check_array(y, input_name\u001b[38;5;241m=\u001b[39m\u001b[38;5;124m\"\u001b[39m\u001b[38;5;124my\u001b[39m\u001b[38;5;124m\"\u001b[39m, \u001b[38;5;241m*\u001b[39m\u001b[38;5;241m*\u001b[39mcheck_y_params)\n\u001b[0;32m    583\u001b[0m     \u001b[38;5;28;01melse\u001b[39;00m:\n\u001b[1;32m--> 584\u001b[0m         X, y \u001b[38;5;241m=\u001b[39m check_X_y(X, y, \u001b[38;5;241m*\u001b[39m\u001b[38;5;241m*\u001b[39mcheck_params)\n\u001b[0;32m    585\u001b[0m     out \u001b[38;5;241m=\u001b[39m X, y\n\u001b[0;32m    587\u001b[0m \u001b[38;5;28;01mif\u001b[39;00m \u001b[38;5;129;01mnot\u001b[39;00m no_val_X \u001b[38;5;129;01mand\u001b[39;00m check_params\u001b[38;5;241m.\u001b[39mget(\u001b[38;5;124m\"\u001b[39m\u001b[38;5;124mensure_2d\u001b[39m\u001b[38;5;124m\"\u001b[39m, \u001b[38;5;28;01mTrue\u001b[39;00m):\n",
      "File \u001b[1;32m~\\desktop\\MLDL projects\\env\\Lib\\site-packages\\sklearn\\utils\\validation.py:1122\u001b[0m, in \u001b[0;36mcheck_X_y\u001b[1;34m(X, y, accept_sparse, accept_large_sparse, dtype, order, copy, force_all_finite, ensure_2d, allow_nd, multi_output, ensure_min_samples, ensure_min_features, y_numeric, estimator)\u001b[0m\n\u001b[0;32m   1102\u001b[0m     \u001b[38;5;28;01mraise\u001b[39;00m \u001b[38;5;167;01mValueError\u001b[39;00m(\n\u001b[0;32m   1103\u001b[0m         \u001b[38;5;124mf\u001b[39m\u001b[38;5;124m\"\u001b[39m\u001b[38;5;132;01m{\u001b[39;00mestimator_name\u001b[38;5;132;01m}\u001b[39;00m\u001b[38;5;124m requires y to be passed, but the target y is None\u001b[39m\u001b[38;5;124m\"\u001b[39m\n\u001b[0;32m   1104\u001b[0m     )\n\u001b[0;32m   1106\u001b[0m X \u001b[38;5;241m=\u001b[39m check_array(\n\u001b[0;32m   1107\u001b[0m     X,\n\u001b[0;32m   1108\u001b[0m     accept_sparse\u001b[38;5;241m=\u001b[39maccept_sparse,\n\u001b[1;32m   (...)\u001b[0m\n\u001b[0;32m   1119\u001b[0m     input_name\u001b[38;5;241m=\u001b[39m\u001b[38;5;124m\"\u001b[39m\u001b[38;5;124mX\u001b[39m\u001b[38;5;124m\"\u001b[39m,\n\u001b[0;32m   1120\u001b[0m )\n\u001b[1;32m-> 1122\u001b[0m y \u001b[38;5;241m=\u001b[39m _check_y(y, multi_output\u001b[38;5;241m=\u001b[39mmulti_output, y_numeric\u001b[38;5;241m=\u001b[39my_numeric, estimator\u001b[38;5;241m=\u001b[39mestimator)\n\u001b[0;32m   1124\u001b[0m check_consistent_length(X, y)\n\u001b[0;32m   1126\u001b[0m \u001b[38;5;28;01mreturn\u001b[39;00m X, y\n",
      "File \u001b[1;32m~\\desktop\\MLDL projects\\env\\Lib\\site-packages\\sklearn\\utils\\validation.py:1143\u001b[0m, in \u001b[0;36m_check_y\u001b[1;34m(y, multi_output, y_numeric, estimator)\u001b[0m\n\u001b[0;32m   1141\u001b[0m \u001b[38;5;28;01melse\u001b[39;00m:\n\u001b[0;32m   1142\u001b[0m     estimator_name \u001b[38;5;241m=\u001b[39m _check_estimator_name(estimator)\n\u001b[1;32m-> 1143\u001b[0m     y \u001b[38;5;241m=\u001b[39m column_or_1d(y, warn\u001b[38;5;241m=\u001b[39m\u001b[38;5;28;01mTrue\u001b[39;00m)\n\u001b[0;32m   1144\u001b[0m     _assert_all_finite(y, input_name\u001b[38;5;241m=\u001b[39m\u001b[38;5;124m\"\u001b[39m\u001b[38;5;124my\u001b[39m\u001b[38;5;124m\"\u001b[39m, estimator_name\u001b[38;5;241m=\u001b[39mestimator_name)\n\u001b[0;32m   1145\u001b[0m     _ensure_no_complex_data(y)\n",
      "File \u001b[1;32m~\\desktop\\MLDL projects\\env\\Lib\\site-packages\\sklearn\\utils\\validation.py:1179\u001b[0m, in \u001b[0;36mcolumn_or_1d\u001b[1;34m(y, dtype, warn)\u001b[0m\n\u001b[0;32m   1153\u001b[0m \u001b[38;5;250m\u001b[39m\u001b[38;5;124;03m\"\"\"Ravel column or 1d numpy array, else raises an error.\u001b[39;00m\n\u001b[0;32m   1154\u001b[0m \n\u001b[0;32m   1155\u001b[0m \u001b[38;5;124;03mParameters\u001b[39;00m\n\u001b[1;32m   (...)\u001b[0m\n\u001b[0;32m   1176\u001b[0m \u001b[38;5;124;03m    If `y` is not a 1D array or a 2D array with a single row or column.\u001b[39;00m\n\u001b[0;32m   1177\u001b[0m \u001b[38;5;124;03m\"\"\"\u001b[39;00m\n\u001b[0;32m   1178\u001b[0m xp, _ \u001b[38;5;241m=\u001b[39m get_namespace(y)\n\u001b[1;32m-> 1179\u001b[0m y \u001b[38;5;241m=\u001b[39m check_array(\n\u001b[0;32m   1180\u001b[0m     y,\n\u001b[0;32m   1181\u001b[0m     ensure_2d\u001b[38;5;241m=\u001b[39m\u001b[38;5;28;01mFalse\u001b[39;00m,\n\u001b[0;32m   1182\u001b[0m     dtype\u001b[38;5;241m=\u001b[39mdtype,\n\u001b[0;32m   1183\u001b[0m     input_name\u001b[38;5;241m=\u001b[39m\u001b[38;5;124m\"\u001b[39m\u001b[38;5;124my\u001b[39m\u001b[38;5;124m\"\u001b[39m,\n\u001b[0;32m   1184\u001b[0m     force_all_finite\u001b[38;5;241m=\u001b[39m\u001b[38;5;28;01mFalse\u001b[39;00m,\n\u001b[0;32m   1185\u001b[0m     ensure_min_samples\u001b[38;5;241m=\u001b[39m\u001b[38;5;241m0\u001b[39m,\n\u001b[0;32m   1186\u001b[0m )\n\u001b[0;32m   1188\u001b[0m shape \u001b[38;5;241m=\u001b[39m y\u001b[38;5;241m.\u001b[39mshape\n\u001b[0;32m   1189\u001b[0m \u001b[38;5;28;01mif\u001b[39;00m \u001b[38;5;28mlen\u001b[39m(shape) \u001b[38;5;241m==\u001b[39m \u001b[38;5;241m1\u001b[39m:\n",
      "File \u001b[1;32m~\\desktop\\MLDL projects\\env\\Lib\\site-packages\\sklearn\\utils\\validation.py:845\u001b[0m, in \u001b[0;36mcheck_array\u001b[1;34m(array, accept_sparse, accept_large_sparse, dtype, order, copy, force_all_finite, ensure_2d, allow_nd, ensure_min_samples, ensure_min_features, estimator, input_name)\u001b[0m\n\u001b[0;32m    843\u001b[0m \u001b[38;5;28;01mif\u001b[39;00m sp\u001b[38;5;241m.\u001b[39missparse(array):\n\u001b[0;32m    844\u001b[0m     _ensure_no_complex_data(array)\n\u001b[1;32m--> 845\u001b[0m     array \u001b[38;5;241m=\u001b[39m _ensure_sparse_format(\n\u001b[0;32m    846\u001b[0m         array,\n\u001b[0;32m    847\u001b[0m         accept_sparse\u001b[38;5;241m=\u001b[39maccept_sparse,\n\u001b[0;32m    848\u001b[0m         dtype\u001b[38;5;241m=\u001b[39mdtype,\n\u001b[0;32m    849\u001b[0m         copy\u001b[38;5;241m=\u001b[39mcopy,\n\u001b[0;32m    850\u001b[0m         force_all_finite\u001b[38;5;241m=\u001b[39mforce_all_finite,\n\u001b[0;32m    851\u001b[0m         accept_large_sparse\u001b[38;5;241m=\u001b[39maccept_large_sparse,\n\u001b[0;32m    852\u001b[0m         estimator_name\u001b[38;5;241m=\u001b[39mestimator_name,\n\u001b[0;32m    853\u001b[0m         input_name\u001b[38;5;241m=\u001b[39minput_name,\n\u001b[0;32m    854\u001b[0m     )\n\u001b[0;32m    855\u001b[0m \u001b[38;5;28;01melse\u001b[39;00m:\n\u001b[0;32m    856\u001b[0m     \u001b[38;5;66;03m# If np.array(..) gives ComplexWarning, then we convert the warning\u001b[39;00m\n\u001b[0;32m    857\u001b[0m     \u001b[38;5;66;03m# to an error. This is needed because specifying a non complex\u001b[39;00m\n\u001b[0;32m    858\u001b[0m     \u001b[38;5;66;03m# dtype to the function converts complex to real dtype,\u001b[39;00m\n\u001b[0;32m    859\u001b[0m     \u001b[38;5;66;03m# thereby passing the test made in the lines following the scope\u001b[39;00m\n\u001b[0;32m    860\u001b[0m     \u001b[38;5;66;03m# of warnings context manager.\u001b[39;00m\n\u001b[0;32m    861\u001b[0m     \u001b[38;5;28;01mwith\u001b[39;00m warnings\u001b[38;5;241m.\u001b[39mcatch_warnings():\n",
      "File \u001b[1;32m~\\desktop\\MLDL projects\\env\\Lib\\site-packages\\sklearn\\utils\\validation.py:522\u001b[0m, in \u001b[0;36m_ensure_sparse_format\u001b[1;34m(spmatrix, accept_sparse, dtype, copy, force_all_finite, accept_large_sparse, estimator_name, input_name)\u001b[0m\n\u001b[0;32m    519\u001b[0m _check_large_sparse(spmatrix, accept_large_sparse)\n\u001b[0;32m    521\u001b[0m \u001b[38;5;28;01mif\u001b[39;00m accept_sparse \u001b[38;5;129;01mis\u001b[39;00m \u001b[38;5;28;01mFalse\u001b[39;00m:\n\u001b[1;32m--> 522\u001b[0m     \u001b[38;5;28;01mraise\u001b[39;00m \u001b[38;5;167;01mTypeError\u001b[39;00m(\n\u001b[0;32m    523\u001b[0m         \u001b[38;5;124m\"\u001b[39m\u001b[38;5;124mA sparse matrix was passed, but dense \u001b[39m\u001b[38;5;124m\"\u001b[39m\n\u001b[0;32m    524\u001b[0m         \u001b[38;5;124m\"\u001b[39m\u001b[38;5;124mdata is required. Use X.toarray() to \u001b[39m\u001b[38;5;124m\"\u001b[39m\n\u001b[0;32m    525\u001b[0m         \u001b[38;5;124m\"\u001b[39m\u001b[38;5;124mconvert to a dense numpy array.\u001b[39m\u001b[38;5;124m\"\u001b[39m\n\u001b[0;32m    526\u001b[0m     )\n\u001b[0;32m    527\u001b[0m \u001b[38;5;28;01melif\u001b[39;00m \u001b[38;5;28misinstance\u001b[39m(accept_sparse, (\u001b[38;5;28mlist\u001b[39m, \u001b[38;5;28mtuple\u001b[39m)):\n\u001b[0;32m    528\u001b[0m     \u001b[38;5;28;01mif\u001b[39;00m \u001b[38;5;28mlen\u001b[39m(accept_sparse) \u001b[38;5;241m==\u001b[39m \u001b[38;5;241m0\u001b[39m:\n",
      "\u001b[1;31mTypeError\u001b[0m: A sparse matrix was passed, but dense data is required. Use X.toarray() to convert to a dense numpy array."
     ]
    }
   ],
   "source": [
    "from sklearn.svm import LinearSVC\n",
    "from sklearn.neighbors import KNeighborsClassifier\n",
    "from sklearn.svm import SVC\n",
    "from sklearn.ensemble import RandomForestClassifier,RandomForestRegressor\n",
    "\n",
    "from sklearn.model_selection import train_test_split\n",
    "X_train,X_test,y_train,y_test = train_test_split(x_train,y_train,test_size=0.2)\n",
    "model = LinearSVC()\n",
    "# fitted = model.fit(x_train,y_train)\n",
    "# score = fitted.score(x_test,y_train)\n",
    "# score\n",
    "model.fit(X_train,y_train)\n",
    "model.score(X_test,y_test)\n",
    "# # we will be using all three models at once\n",
    "# model_dict = {1:LinearSVC(),\n",
    "\n",
    "#               2:KNeighborsClassifier(),\n",
    "#               3:SVC()}\n",
    "# # now we will create a model that will fit and score on these models\n",
    "# def fit_and_Score(model, test_variables):\n",
    "#     model_scores_list = []\n",
    "#     for key,classifier in model_dict.items():\n",
    "#         model_fit = classifier.fit(x_train,y_train)\n",
    "#         model_scores = model_fit.score(x_test,y_train)\n",
    "#         model_scores_list.append(model_scores)\n",
    "\n"
   ]
  },
  {
   "cell_type": "code",
   "execution_count": 135,
   "id": "1358febc",
   "metadata": {},
   "outputs": [
    {
     "data": {
      "text/plain": [
       "<614x1138 sparse matrix of type '<class 'numpy.float64'>'\n",
       "\twith 7368 stored elements in Compressed Sparse Row format>"
      ]
     },
     "execution_count": 135,
     "metadata": {},
     "output_type": "execute_result"
    }
   ],
   "source": [
    "x_train"
   ]
  },
  {
   "cell_type": "code",
   "execution_count": 136,
   "id": "8ed8d689",
   "metadata": {},
   "outputs": [
    {
     "data": {
      "text/plain": [
       "357    N\n",
       "236    N\n",
       "411    Y\n",
       "538    N\n",
       "328    N\n",
       "      ..\n",
       "599    Y\n",
       "333    Y\n",
       "464    N\n",
       "344    Y\n",
       "251    N\n",
       "Name: Loan_Status, Length: 491, dtype: object"
      ]
     },
     "execution_count": 136,
     "metadata": {},
     "output_type": "execute_result"
    }
   ],
   "source": [
    "y_train"
   ]
  },
  {
   "cell_type": "code",
   "execution_count": 124,
   "id": "18943cd0",
   "metadata": {},
   "outputs": [
    {
     "data": {
      "text/plain": [
       "<614x1642 sparse matrix of type '<class 'numpy.float64'>'\n",
       "\twith 7368 stored elements in Compressed Sparse Row format>"
      ]
     },
     "execution_count": 124,
     "metadata": {},
     "output_type": "execute_result"
    }
   ],
   "source": [
    "#import pandas as pd\n",
    "from sklearn.model_selection import train_test_split\n",
    "from sklearn.preprocessing import OneHotEncoder\n",
    "from sklearn.linear_model import LogisticRegression\n",
    "from sklearn.svm import LinearSVC\n",
    "# Assuming you have a DataFrame with one-hot encoded features and target variable\n",
    "missing_val_filled_train_set_df['CoapplicantIncome'] = missing_val_filled_train_set_df['CoapplicantIncome'].astype(str)\n",
    "missing_val_filled_train_set_df['LoanAmount'] = missing_val_filled_train_set_df['LoanAmount'].astype(str)\n",
    "missing_val_filled_train_set_df['Loan_Amount_Term'] = missing_val_filled_train_set_df['Loan_Amount_Term'].astype(str)\n",
    "missing_val_filled_train_set_df['Credit_History'] = missing_val_filled_train_set_df['Credit_History'].astype(str)\n",
    "X_train = missing_val_filled_train_set_df\n",
    "y_train = ytrain_set_df_target\n",
    "# Create an instance of the OneHotEncoder\n",
    "encoder = OneHotEncoder()\n",
    "\n",
    "# Fit and transform the input features\n",
    "X_train_encoded = encoder.fit_transform(X_train)\n",
    "\n",
    "# Split the data into training and validation sets\n",
    "X_train_split, X_val_split, y_train_split, y_val_split = train_test_split(X_train_encoded, y_train, test_size=0.2, random_state=42)\n",
    "\n",
    "# Create an instance of the classification algorithm\n",
    "classifier = LinearSVC()\n",
    "\n",
    "# Fit the classifier to the training data\n",
    "classifier.fit(X_train_split, y_train_split)\n",
    "\n",
    "# Evaluate the model\n",
    "accuracy = classifier.score(X_val_split, y_val_split)\n",
    "accuracy\n",
    "X_train_encoded"
   ]
  },
  {
   "cell_type": "code",
   "execution_count": 54,
   "id": "27936401",
   "metadata": {},
   "outputs": [],
   "source": [
    "# # Importing the NumPy array\n",
    "# import numpy as np\n",
    "# # print(np.array([[1, 2, 3], [4, 5, 6, 7]], dtype = int))\n",
    "# print(np.array([[x_train],[y_train]],dtype= int))"
   ]
  },
  {
   "cell_type": "code",
   "execution_count": 53,
   "id": "0b292efa",
   "metadata": {},
   "outputs": [],
   "source": [
    "# import numpy as np\n",
    "# from sklearn.pipeline import make_pipeline\n",
    "# from sklearn.preprocessing import StandardScaler\n",
    "# from sklearn.svm import SVC\n",
    "\n",
    "# X = np.array(x_train)\n",
    "# y = np.array(y_train)\n",
    "\n",
    "# clf = make_pipeline(StandardScaler(), SVC(gamma='auto'))\n",
    "# clf.fit(X, y)"
   ]
  },
  {
   "cell_type": "code",
   "execution_count": null,
   "id": "32b6d026",
   "metadata": {},
   "outputs": [],
   "source": []
  }
 ],
 "metadata": {
  "kernelspec": {
   "display_name": "Python 3 (ipykernel)",
   "language": "python",
   "name": "python3"
  },
  "language_info": {
   "codemirror_mode": {
    "name": "ipython",
    "version": 3
   },
   "file_extension": ".py",
   "mimetype": "text/x-python",
   "name": "python",
   "nbconvert_exporter": "python",
   "pygments_lexer": "ipython3",
   "version": "3.11.3"
  }
 },
 "nbformat": 4,
 "nbformat_minor": 5
}
